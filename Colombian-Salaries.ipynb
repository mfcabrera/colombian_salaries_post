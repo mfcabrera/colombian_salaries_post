{
 "metadata": {
  "name": "",
  "signature": "sha256:1782496c394457186d939298e37eb798c1395feeb901e3fe90b71d37fcbf6d38"
 },
 "nbformat": 3,
 "nbformat_minor": 0,
 "worksheets": [
  {
   "cells": [
    {
     "cell_type": "markdown",
     "metadata": {},
     "source": [
      "## Analyzing the Colombian Salary Survey Data\n",
      "### TL;DR\n",
      "Famous Colombian entrepreneur Alexander Torrenegra through his company Bunny Inc recently released the results from a Survey about the salaries of Colombian Software Developers. The data although interesting is messy. To get extra juice from this data, I use Open Refine to clean it up and cluster similar answers. Based on the cleaned data I do a bit of data exploration.\n",
      "\n",
      "### Intro\n",
      "\n",
      "Famous Colombian entrepreneur [Alexander Torrenegra](https://twitter.com/torrenegra) recently released the results from a Survey about the salaries of  [Colombian Software Developers](http://bunnyinc.com/blog/survey-results-much-colombian-software-developers-really-make). There have been already [interesting ](http://blog.hacemoscontactos.com/2015/03/08/los-salarios-de-los-desarrolladores-que-trabajan-para-companias-colombianas/) \n",
      "  [analyses](https://medium.com/medium-colombia/an%C3%A1lisis-how-much-colombian-software-developers-really-make-c404c2f2f07f) and controversy regarding the results of the survey. I think both of them tackle the data interestingly and give a lot of insight, in particular the one from  [David Przybilla](http://bunnyinc.com/blog/survey-results-much-colombian-software-developers-really-make).  I take  a different approach and kind ask different questions.\n",
      "Also I only focus in a couple of fields. I will try to  follow the data driven journalism / data science  process to interact with this data, namely:\n",
      "\n",
      "1. Obtaining the data\n",
      "2. Looking at the Data\n",
      "3. Clean the data\n",
      "4. Explore \n",
      "5. Visualize\n",
      "    \n",
      "And with it, I will try to answer some questions (based on the survey data):\n",
      "\n",
      "- Is there a correlation between the  role and  the salary of the person?\n",
      "- Do the _job title_ affect the salary of the person?\n",
      "\n",
      "\n",
      "### Obtaining the data\n",
      "The data can be downloaded from the [original article](http://bunnyinc.com/blog/survey-results-much-colombian-software-developers-really-make). The data was originally obtained using a Google Forms, so a CSV is available for download.\n",
      "\n",
      "### Looking at the data\n",
      "Let's start to get our hands dirty. For doing that I use pandas to take a look at the data.\n",
      "    "
     ]
    },
    {
     "cell_type": "code",
     "collapsed": false,
     "input": [
      "import pandas as pd\n",
      "salaries = pd.read_csv('salary_survey_colombians_2015.csv')"
     ],
     "language": "python",
     "metadata": {},
     "outputs": []
    },
    {
     "cell_type": "markdown",
     "metadata": {},
     "source": [
      "Let's see the columns:"
     ]
    },
    {
     "cell_type": "code",
     "collapsed": false,
     "input": [
      "del salaries['Timestamp'] # delete uncessary field\n",
      "list(salaries.columns)"
     ],
     "language": "python",
     "metadata": {},
     "outputs": [
      {
       "output_type": "stream",
       "stream": "stdout",
       "text": [
        "['How many years of software development experience do you have?',\n",
        " 'In what technologies are you proficient?',\n",
        " 'What university degree did you obtain?',\n",
        " 'university',\n",
        " 'What percentage of your work time do you spend developing software as opposed to performing other tasks like managing other people or projects, making sales, etc.?',\n",
        " 'Please select all that apply:',\n",
        " 'Referring to the company or project that you work for most of the time:',\n",
        " 'If applicable, how many full-time employees does the company that you work for have?',\n",
        " \"If applicable, what's your job title at the company that you work at?\",\n",
        " 'Excluding equity, how much money do you earn on a monthly basis?',\n",
        " 'Are you earning equity (stock, stock options, etc.)?']\n"
       ]
      }
     ],
     "prompt_number": 290
    },
    {
     "cell_type": "markdown",
     "metadata": {},
     "source": [
      "And let's take a look at a sample of the data:"
     ]
    },
    {
     "cell_type": "code",
     "collapsed": false,
     "input": [
      "salaries.head(2)"
     ],
     "language": "python",
     "metadata": {},
     "outputs": [
      {
       "html": [
        "<div style=\"max-height:1000px;max-width:1500px;overflow:auto;\">\n",
        "<table border=\"1\" class=\"dataframe\">\n",
        "  <thead>\n",
        "    <tr style=\"text-align: right;\">\n",
        "      <th></th>\n",
        "      <th>How many years of software development experience do you have?</th>\n",
        "      <th>In what technologies are you proficient?</th>\n",
        "      <th>What university degree did you obtain?</th>\n",
        "      <th>university</th>\n",
        "      <th>What percentage of your work time do you spend developing software as opposed to performing other tasks like managing other people or projects, making sales, etc.?</th>\n",
        "      <th>Please select all that apply:</th>\n",
        "      <th>Referring to the company or project that you work for most of the time:</th>\n",
        "      <th>If applicable, how many full-time employees does the company that you work for have?</th>\n",
        "      <th>If applicable, what's your job title at the company that you work at?</th>\n",
        "      <th>Excluding equity, how much money do you earn on a monthly basis?</th>\n",
        "      <th>Are you earning equity (stock, stock options, etc.)?</th>\n",
        "    </tr>\n",
        "  </thead>\n",
        "  <tbody>\n",
        "    <tr>\n",
        "      <th>0</th>\n",
        "      <td> 2 to 3 years</td>\n",
        "      <td>                 HTML/CSS, Javascript, Ruby</td>\n",
        "      <td> Ingeniero de Sistemas</td>\n",
        "      <td>                                   UNASAM</td>\n",
        "      <td> 20%</td>\n",
        "      <td> I am employed full-time, I am an entrepreneur</td>\n",
        "      <td> It's a multinational with presence in Colombia</td>\n",
        "      <td>       &lt; 10 employees</td>\n",
        "      <td>  Programador Junior</td>\n",
        "      <td> USD$1 - USD$999</td>\n",
        "      <td> No</td>\n",
        "    </tr>\n",
        "    <tr>\n",
        "      <th>1</th>\n",
        "      <td> 5 to 6 years</td>\n",
        "      <td> C++, Java, Mobile apps (Android), SQL, UML</td>\n",
        "      <td> Ingeniero de Sistemas</td>\n",
        "      <td> Pontificia Universidad Javeriana Bogot\u00e1 </td>\n",
        "      <td> 90%</td>\n",
        "      <td>                       I am employed full-time</td>\n",
        "      <td> It's a multinational with presence in Colombia</td>\n",
        "      <td> 100 to 199 employees</td>\n",
        "      <td> Software Engineer I</td>\n",
        "      <td> USD$1 - USD$999</td>\n",
        "      <td> No</td>\n",
        "    </tr>\n",
        "  </tbody>\n",
        "</table>\n",
        "</div>"
       ],
       "metadata": {},
       "output_type": "pyout",
       "prompt_number": 292,
       "text": [
        "  How many years of software development experience do you have?  \\\n",
        "0                                       2 to 3 years               \n",
        "1                                       5 to 6 years               \n",
        "\n",
        "     In what technologies are you proficient?  \\\n",
        "0                  HTML/CSS, Javascript, Ruby   \n",
        "1  C++, Java, Mobile apps (Android), SQL, UML   \n",
        "\n",
        "  What university degree did you obtain?  \\\n",
        "0                  Ingeniero de Sistemas   \n",
        "1                  Ingeniero de Sistemas   \n",
        "\n",
        "                                 university  \\\n",
        "0                                    UNASAM   \n",
        "1  Pontificia Universidad Javeriana Bogot\u00e1    \n",
        "\n",
        "  What percentage of your work time do you spend developing software as opposed to performing other tasks like managing other people or projects, making sales, etc.?  \\\n",
        "0                                                20%                                                                                                                    \n",
        "1                                                90%                                                                                                                    \n",
        "\n",
        "                   Please select all that apply:  \\\n",
        "0  I am employed full-time, I am an entrepreneur   \n",
        "1                        I am employed full-time   \n",
        "\n",
        "  Referring to the company or project that you work for most of the time:  \\\n",
        "0     It's a multinational with presence in Colombia                        \n",
        "1     It's a multinational with presence in Colombia                        \n",
        "\n",
        "  If applicable, how many full-time employees does the company that you work for have?  \\\n",
        "0                                     < 10 employees                                     \n",
        "1                               100 to 199 employees                                     \n",
        "\n",
        "  If applicable, what's your job title at the company that you work at?  \\\n",
        "0                                 Programador Junior                      \n",
        "1                                Software Engineer I                      \n",
        "\n",
        "  Excluding equity, how much money do you earn on a monthly basis?  \\\n",
        "0                                    USD$1 - USD$999                 \n",
        "1                                    USD$1 - USD$999                 \n",
        "\n",
        "  Are you earning equity (stock, stock options, etc.)?  \n",
        "0                                                 No    \n",
        "1                                                 No    "
       ]
      }
     ],
     "prompt_number": 292
    },
    {
     "cell_type": "markdown",
     "metadata": {},
     "source": [
      "#### Some Particularities of this data set\n",
      "From the sample above you could already see some pequaliarities of this set. Some  of this come from the design of the of the survey and from the actual fact that is a survey, for example this this survey from _convenience of sample_ (those aware of the survey) and _Non-response_ (e.g. the survey was in English) biases. In other words, as a survey this cannot be taken representative sample (i.e. the sample is not random).\n",
      "\n",
      "Now for the data itself, the design of the fields are problematic, take for example the salaries. The survey was designed divided the salaries into the follwing buckets:\n",
      "\n",
      "\n",
      "    \n",
      "        $0\n",
      "    USD$1 - USD$999\n",
      "    USD$1,000 - USD$1,999\n",
      "    USD$3,000 - USD$3,999\n",
      "    USD$6,000 - USD$6,999\n",
      "    USD$2,000 - USD$2,999\n",
      "    USD$5,000 - USD$5,999\n",
      "    USD$4,000 - USD$4,999\n",
      "    USD$8,000 - USD$8,999\n",
      "    USD$7,000 - USD$7,999\n",
      "    USD$9,000 - USD$9,999\n",
      "    > USD$10,000\n",
      "    \n",
      "\n",
      "As both [https://medium.com/@dav009](David) and [Isabel](http://blog.hacemoscontactos.com/2015/03/08/los-salarios-de-los-desarrolladores-que-trabajan-para-companias-colombianas/ ) the salaries are reported in dollars, but earned in Pesos. In Colombia a range from _USD$1 - USD$999_ or _USD$1,000 - USD$1,999_ is too big and grouping them into such buckets makes impossible to have better view of the salary distribution. Furthermore when 90% of the survey participants ear below USD \\$3000. Given this, Isabel assumes the salary distribution is normal. That can be a reasonable assumption, but salary data is rarely normal and is generally right skewed. That means that the 'Average Joe' might be getting even less that  the assumed by Isabel. My assumption would be that if that is the situation for salaries < USD \\$3,000, I would expect a even lower real  mean. Also, for extremely skewed distributions, the mean might be a more informative statistic.\n",
      "\n",
      "Another fields are also problematic. Take  for example the question on the University from which the participant obtained his/her degree. In the original survey free text field. This creates different spelling for the same answer, making difficult any clustering. Other fields presented similar issues and some had multiple answer which made even harder to cluster results properly. Another peculiarity is that the data is \"bilingual\". As the users came from colombia some people wrote names and description in English while other in Spanish.\n",
      "\n",
      "### Cleaning the Data\n",
      "\n",
      "Given the issues described in the previous section, in order to answer some of the questions I posted at the beginning of the article required a bit more of data juggling.  Recently I found a tool called [Open Refine](http://openrefine.org/ ) (formerly Google Refine) that helps when dealing with messy data. Among its functionality are the  cleaning and clustering fields using [String similarites](http://en.wikipedia.org/wiki/String_metric ). For example for the university field using it I could cluster answers and I went from 436 different answers to 156. This was not automatic and it took me a while to obtain result I considered _good enough_. In addition to this preprocessing I also normalized strings and removed encoding some encoding problems.\n",
      "\n",
      "\n",
      "<div class=\"img-center\">\n",
      "<img src=\"/files/images/salaries01.png\"  class=\"img-polaroid\"  />\n",
      "<p> An overview of the </strong>'If applicable, what university(ies) did you attend?'</strong> field (Original data). </p>\n",
      "</div>\n",
      "\n",
      "\n",
      "<div class=\"img-center\">\n",
      "<img src=\"/files/images/salaries01.png\"  class=\"img-polaroid\"  />\n",
      "<p> An overview of the </strong>'If applicable, what university(ies) did you attend?'</strong> field (Original data). </p>\n",
      "</div>\n",
      "\n",
      "Similar preprocessing was applied to the _If applicable, what\\'s your job title at the company that you work at?'_ field. I also expanded some fields with multiple answer so they transformed into more than one field.  The modified data set can be found in Github.\n",
      "\n"
     ]
    },
    {
     "cell_type": "markdown",
     "metadata": {},
     "source": [
      "### Visualizing Correlations\n",
      "\n",
      "We the data a bit cleaner we can start trying to look for some patters. Let's start with the university where the person obtained a major. How is the distribution of salaries based on this.\n"
     ]
    },
    {
     "cell_type": "code",
     "collapsed": false,
     "input": [
      "import pandas as pd\n",
      "salaries_clean = pd.read_csv('salaries_modified.csv')"
     ],
     "language": "python",
     "metadata": {},
     "outputs": [],
     "prompt_number": 1
    },
    {
     "cell_type": "code",
     "collapsed": false,
     "input": [
      "salaries_clean\n",
      "del salaries_clean['Timestamp']"
     ],
     "language": "python",
     "metadata": {},
     "outputs": [],
     "prompt_number": 2
    },
    {
     "cell_type": "code",
     "collapsed": false,
     "input": [
      "len(salaries_clean)"
     ],
     "language": "python",
     "metadata": {},
     "outputs": [
      {
       "metadata": {},
       "output_type": "pyout",
       "prompt_number": 6,
       "text": [
        "1230"
       ]
      }
     ],
     "prompt_number": 6
    },
    {
     "cell_type": "markdown",
     "metadata": {},
     "source": [
      "I will rename some columns just to make things easier to formulate:"
     ]
    },
    {
     "cell_type": "code",
     "collapsed": false,
     "input": [
      "salaries_clean.rename(columns={'If applicable, what university(ies) did you attend? 1':'university'}, inplace=True)\n",
      "salaries_clean.rename(columns={'If applicable, what university(ies) did you attend? 2':'university_2'}, inplace=True)\n",
      "salaries_clean.rename(columns={'Excluding equity, how much money do you earn on a monthly basis?':'salary'}, inplace=True)\n",
      "salaries_clean.rename(columns={'If applicable, what\\'s your job title at the company that you work at?':'title'}, inplace=True)"
     ],
     "language": "python",
     "metadata": {},
     "outputs": [],
     "prompt_number": 3
    },
    {
     "cell_type": "markdown",
     "metadata": {},
     "source": [
      "Let's take a look at the cleaned data:"
     ]
    },
    {
     "cell_type": "markdown",
     "metadata": {},
     "source": [
      "Before going into per-university visualizations let's take a look at the overall salaries histograms: "
     ]
    },
    {
     "cell_type": "code",
     "collapsed": false,
     "input": [
      "%matplotlib inline\n",
      "import seaborn as sns\n",
      "\n",
      "x = salaries_clean['salary'].value_counts()\n",
      "x = x[idxs]\n",
      "x.plot(kind='bar')"
     ],
     "language": "python",
     "metadata": {},
     "outputs": [
      {
       "metadata": {},
       "output_type": "pyout",
       "prompt_number": 9,
       "text": [
        "<matplotlib.axes._subplots.AxesSubplot at 0x10d607790>"
       ]
      },
      {
       "metadata": {},
       "output_type": "display_data",
       "png": "[encoded data removed]",
       "text": [
        "<matplotlib.figure.Figure at 0x10d6072d0>"
       ]
      }
     ],
     "prompt_number": 9
    },
    {
     "cell_type": "markdown",
     "metadata": {},
     "source": [
      "Now that we have clean let's plot the overall distribution of salaries so we can further compare it with the salaries for the universities."
     ]
    },
    {
     "cell_type": "markdown",
     "metadata": {},
     "source": [
      "Now let's see what's in the university field:"
     ]
    },
    {
     "cell_type": "code",
     "collapsed": false,
     "input": [
      "salaries_clean['university'].describe()"
     ],
     "language": "python",
     "metadata": {},
     "outputs": [
      {
       "metadata": {},
       "output_type": "pyout",
       "prompt_number": 96,
       "text": [
        "count                                  861\n",
        "unique                                 156\n",
        "top       universidad nacional de colombia\n",
        "freq                                   109\n",
        "Name: university, dtype: object"
       ]
      }
     ],
     "prompt_number": 96
    },
    {
     "cell_type": "markdown",
     "metadata": {},
     "source": [
      "So from 1230 entries, only 861 reported some university. Also the most common value is the $'universidad nacional de colombia$, that is, the [National University of Colombia](http://www.unal.edu.co ) (UNAL). Let's take a look at the most common universities.\n"
     ]
    },
    {
     "cell_type": "code",
     "collapsed": false,
     "input": [
      "salaries_clean['university'].value_counts().head(10)"
     ],
     "language": "python",
     "metadata": {},
     "outputs": [
      {
       "metadata": {},
       "output_type": "pyout",
       "prompt_number": 94,
       "text": [
        "universidad nacional de colombia       109\n",
        "universidad de los andes                62\n",
        "eafit                                   57\n",
        "universidad del norte                   53\n",
        "universidad del valle                   46\n",
        "universidad distrital fjdc              43\n",
        "pontificia universidad javeriana        29\n",
        "universidad de antioquia                23\n",
        "universidad industrial de santander     21\n",
        "universidad del quindio                 16\n",
        "dtype: int64"
       ]
      }
     ],
     "prompt_number": 94
    },
    {
     "cell_type": "markdown",
     "metadata": {},
     "source": [
      "The UNAL is the most common university. I am a bit guilty here, as I merged all the campuses (namely Bogot\u00e1 and the Medell\u00edn campuses) into one cluster. Some people consider it different universities and some the same. In my opinion they should be treated like one but that is up for discussion.\n",
      "\n",
      "Let's  plot now the histograms for the most common universities:\n"
     ]
    },
    {
     "cell_type": "markdown",
     "metadata": {},
     "source": [
      "But first we need to reorder the index so that we get the buckets in order:"
     ]
    },
    {
     "cell_type": "code",
     "collapsed": false,
     "input": [
      "idxs = list(salaries_clean['salary'].value_counts().index.values)\n",
      "idxs.remove('$0')\n",
      "idxs = ['$0'] +  idxs\n",
      "idxs = idxs + ['> USD$10,000']\n",
      "idxs.remove('> USD$10,000')\n",
      "idxs = [idxs[0]] + sorted(idxs[1:-1]) + [idxs[-1]]\n",
      "idxs"
     ],
     "language": "python",
     "metadata": {},
     "outputs": [
      {
       "metadata": {},
       "output_type": "pyout",
       "prompt_number": 5,
       "text": [
        "['$0',\n",
        " 'USD$1 - USD$999',\n",
        " 'USD$1,000 - USD$1,999',\n",
        " 'USD$2,000 - USD$2,999',\n",
        " 'USD$3,000 - USD$3,999',\n",
        " 'USD$4,000 - USD$4,999',\n",
        " 'USD$5,000 - USD$5,999',\n",
        " 'USD$6,000 - USD$6,999',\n",
        " 'USD$7,000 - USD$7,999',\n",
        " 'USD$8,000 - USD$8,999',\n",
        " 'USD$9,000 - USD$9,999',\n",
        " '> USD$10,000']"
       ]
      }
     ],
     "prompt_number": 5
    },
    {
     "cell_type": "markdown",
     "metadata": {},
     "source": [
      "We see that most of the people  are in the bracket _USD$1000-1900_ that by itself is an already broad range when you tranform this into colombian pesos.\n",
      "Now from the cleaned data let's take a look what is the most common universities reported:"
     ]
    },
    {
     "cell_type": "code",
     "collapsed": false,
     "input": [
      "for uni in salaries_clean['university'].value_counts().head(6).iteritems():\n",
      "    print(uni)\n",
      "\n"
     ],
     "language": "python",
     "metadata": {},
     "outputs": [
      {
       "output_type": "stream",
       "stream": "stdout",
       "text": [
        "('universidad nacional de colombia', 109)\n",
        "('universidad de los andes', 62)\n",
        "('eafit', 57)\n",
        "('universidad del norte', 53)\n",
        "('universidad del valle', 46)\n",
        "('universidad distrital fjdc', 43)\n"
       ]
      }
     ],
     "prompt_number": 217
    },
    {
     "cell_type": "markdown",
     "metadata": {},
     "source": [
      "With this we can plot the bar chart for  the salaries of people coming for a particular universtity. Let's see if we find some patterns here."
     ]
    },
    {
     "cell_type": "code",
     "collapsed": false,
     "input": [
      "import matplotlib as mpl\n",
      "import matplotlib.pyplot as plt\n",
      "import seaborn as sns\n",
      "sns.set_palette(\"deep\", desat=.6)\n",
      "sns.set_context(rc={\"figure.figsize\": (16, 8)})\n",
      "\n",
      "plt.figure(1)\n",
      "for i,uni in enumerate(salaries_clean['university'].value_counts().head(6).iteritems()):\n",
      "    salaries_uni = salaries_clean[salaries_clean['university'] == uni[0]]\n",
      "    counts = salaries_uni['salary'].value_counts()\n",
      "    counts = counts[idxs] # reorder counts\n",
      "    rate = counts / float(counts.sum())\n",
      "    plt.subplot(2,3,i+1)\n",
      "    rate.plot(kind='bar', title=uni[0], ylim=(0,0.50))\n",
      "    #sns.factorplot('counts','dos',rate)\n",
      "    ax = plt.gca()\n",
      "    if i <= 2:\n",
      "        ax.set_xticks([]) \n",
      "plt.show()"
     ],
     "language": "python",
     "metadata": {},
     "outputs": [
      {
       "metadata": {},
       "output_type": "display_data",
       "png": "[encoded data removed]",
       "text": [
        "<matplotlib.figure.Figure at 0x10d944850>"
       ]
      }
     ],
     "prompt_number": 11
    },
    {
     "cell_type": "markdown",
     "metadata": {},
     "source": [
      "Interesting, Although the distribution looks more or less similar,  it would appear that graduates from \"La Universidad de los Andes\" tend to have better salaries than the rest because a only small percentage of graduates are in the _USD-USD999_ bucket.   It also looks that salaries from the \"La Universidad del Norte\" are overall lower than the rest of the universities here. Remember I am just showing just correlation, not causation. There are many factors to take into consideration, for example the city where the person reporting the salary lives. For example, if I assume most of the graduates from a university in Medellin , remain in that area. It is expected then that their salaries are lower, just because the cost of live on those places is also less. "
     ]
    },
    {
     "cell_type": "markdown",
     "metadata": {},
     "source": [
      "### Job Title\n",
      "Let's see if we can identify a particular pattern where it comes to the position of the person. Now, this data was interesting as it was bilingual. Some reported the the position name in English, some in Spanish. Does that mean that the ones answering in English are hired by a international company? or have better command of English? Does that affect somehow the salary. Let's take a look at the data:\n",
      "\n",
      "First let's take a look at the most common reported positions:"
     ]
    },
    {
     "cell_type": "code",
     "collapsed": false,
     "input": [
      "salaries_clean['title'].value_counts().head(10)"
     ],
     "language": "python",
     "metadata": {},
     "outputs": [
      {
       "metadata": {},
       "output_type": "pyout",
       "prompt_number": 273,
       "text": [
        "Desarrollador de Software           99\n",
        "Software Developer                  91\n",
        "Desarrollador de Software Senior    65\n",
        "Software Engineer                   60\n",
        "Analista de Desarrollo              52\n",
        "Desarrollador Junior                28\n",
        "Technical Lead                      23\n",
        "Frontend Developer                  23\n",
        "CTO                                 22\n",
        "Director                            19\n",
        "dtype: int64"
       ]
      }
     ],
     "prompt_number": 273
    },
    {
     "cell_type": "markdown",
     "metadata": {},
     "source": [
      "As I did with the university field, I cluster and cleaned the data. I needed to make some \"decision\" as there were a lot of variability in the answers and the lack of standard in the software development industry of Colombia. It is an \"Analista de Desarrollo\" the same as an \"Analista Desarrollador\"? or is there a difference between an \"Programador\" and a \"Desarrollador\" and a \"Analista\"?. \n",
      "\n",
      "Let's see how the buckets distribute among the different position listed by the surveyed persons. "
     ]
    },
    {
     "cell_type": "code",
     "collapsed": false,
     "input": [
      "import matplotlib as mpl\n",
      "import matplotlib.pyplot as plt\n",
      "import seaborn as sns\n",
      "sns.set_palette(\"deep\", desat=.6)\n",
      "sns.set_context(rc={\"figure.figsize\": (16, 8)})\n",
      "\n",
      "plt.figure(1)\n",
      "for i,uni in enumerate(salaries_clean['title'].value_counts().head(9).iteritems()):\n",
      "    salaries_uni = salaries_clean[salaries_clean['title'] == uni[0]]\n",
      "    counts = salaries_uni['salary'].value_counts()\n",
      "    counts = counts[idxs] # reorder counts\n",
      "    rate = counts / float(counts.sum())\n",
      "    plt.subplot(3,3,i+1)\n",
      "    rate.plot(kind='bar', title=uni[0], ylim=(0,0.60))\n",
      "    #sns.factorplot('counts','dos',rate)\n",
      "    ax = plt.gca()\n",
      "    if i <= 5:\n",
      "        ax.set_xticks([]) "
     ],
     "language": "python",
     "metadata": {},
     "outputs": [
      {
       "metadata": {},
       "output_type": "display_data",
       "png": "[encoded data removed]",
       "text": [
        "<matplotlib.figure.Figure at 0x10d814e90>"
       ]
      }
     ],
     "prompt_number": 10
    },
    {
     "cell_type": "markdown",
     "metadata": {},
     "source": [
      "We can see that the distribution among the different buckets similar for \"Software Developer\" and \"Software Engineer\". A bad analyst would say that if your job title is in English, you have more chances to be better paid :). It is interesting to see how is easy identifiable the \"Analista de Desarrollo\" is a Colombia only position, as the salaries never go above of the _USD$2,000 - USD$2,999_ bucket."
     ]
    },
    {
     "cell_type": "markdown",
     "metadata": {},
     "source": [
      "    \n",
      "### Recommendations for the Next Survey\n",
      "\n",
      "I think the survey was a nice exercise  and I thank the Bunny Inc. guys for creating it. However in order to obtain more value from the data I would propose some modifications:\n",
      "\n",
      "- Ditch Google Forms and create a custom form with a friendly and less prone to manual entry error. For example load a list of Colombian universities or a list of common positions  (Software Developer, CTO, Data Engineer, Backend Engineer). \n",
      "\n",
      "- Make the reported currency  _COP_. Dollar fluctuates a lot ([and much more recently](https://www.google.de/webhp?sourceid=chrome-instant&ion=1&espv=2&es_th=1&ie=UTF-8#q=USDCOP&es_th=1)). Therefore I believe is better to report COP instead of USD. Furthermore, if most of the people answering to that survey actually get COP. Conversion can easily be done afterwards.\n",
      "\n",
      "- Ditch the buckets and let people enter a exact value. This will allow to obtain better statistics and create buckets that make more sense for the Colombian software developer community.\n",
      "\n",
      "- Add additional fields, for example the industry or the actual sex of the person. The location of the person is also important, as the cost of life varies. That way we could also  separate those colombian software developer working abroad.\n",
      "\n",
      "### Conclusion\n",
      "The data obtained from this survey although not perfect allow us to have a glimpse of the distribution of salaries of the colombian software developers. Playing with messy data is not fun, but  tools like Open Refine make it way easier.\n",
      "However, I hope the next Survey from the Bunny Inc. guys contain a cleaner data set :).\n",
      "                                                             \n"
     ]
    }
   ],
   "metadata": {}
  }
 ]
}